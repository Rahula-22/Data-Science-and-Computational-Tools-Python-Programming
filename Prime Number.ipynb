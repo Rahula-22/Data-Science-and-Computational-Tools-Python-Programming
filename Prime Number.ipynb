{
  "nbformat": 4,
  "nbformat_minor": 0,
  "metadata": {
    "colab": {
      "provenance": []
    },
    "kernelspec": {
      "name": "python3",
      "display_name": "Python 3"
    },
    "language_info": {
      "name": "python"
    }
  },
  "cells": [
    {
      "cell_type": "markdown",
      "source": [
        "#Assignment-3 Python Programming\n",
        "## 2.1 Summing Prime Numbers for a Cryptographic Algorithm:\n"
      ],
      "metadata": {
        "id": "ywC5SSd7j4yW"
      }
    },
    {
      "cell_type": "markdown",
      "source": [
        "  Function:- sum_of_promes(n):\n",
        "\n",
        "  This function computes and returns the sum of the first n prime numbers using the **Sieve of Eratosthenes** for prime generation"
      ],
      "metadata": {
        "id": "W487FNSAlx-F"
      }
    },
    {
      "cell_type": "code",
      "source": [
        "import math\n",
        "\n",
        "def sum_of_primes(n):\n",
        "    #An upper bound for the n-th prime number is estimated using:\n",
        "    # n * (log(n) + log(log(n)))\n",
        "\n",
        "    if n <= 0:\n",
        "        return 0  # Return 0 if n is non-positive\n",
        "\n",
        "    # For small n\n",
        "    if n < 6:\n",
        "        upper_bound = 15\n",
        "    else:\n",
        "        # For nth prime we use n * (log(n) + log(log(n)))\n",
        "        upper_bound = int(n * (math.log(n) + math.log(math.log(n)))) + 1\n",
        "\n",
        "    # Function to generate primes up to a given limit using the SOE.\n",
        "    def generate_primes(limit):\n",
        "        sieve = [True]*(limit + 1) # Initially, assume all numbers are prime.\n",
        "\n",
        "        # 0 and 1 are not primes.\n",
        "        sieve[0] = sieve[1] = False\n",
        "\n",
        "        for i in range(2, int(math.sqrt(limit)) + 1):\n",
        "            if sieve[i]:\n",
        "                # Mark all multiples of 'i' as not prime (False).\n",
        "                for j in range(i*i, limit + 1, i):\n",
        "                    sieve[j] = False\n",
        "        return [i for i, is_prime in enumerate(sieve) if is_prime]\n",
        "\n",
        "    primes = generate_primes(upper_bound)\n",
        "\n",
        "    # Adjusting the upper_bound if there are not enough primes.\n",
        "    while len(primes) < n:\n",
        "        upper_bound *= 2\n",
        "        primes = generate_primes(upper_bound)\n",
        "\n",
        "    return sum(primes[:n]) # returns the list of prime numbers less than or equal to the limit.\n"
      ],
      "metadata": {
        "id": "-z9W7tuuKcfO"
      },
      "execution_count": null,
      "outputs": []
    },
    {
      "cell_type": "markdown",
      "source": [
        "Main Function: Prompting the user for the number of prime numbers to sum."
      ],
      "metadata": {
        "id": "JWGuSEwIK4lg"
      }
    },
    {
      "cell_type": "code",
      "source": [
        "if __name__ == \"__main__\":\n",
        "    try:\n",
        "        n = int(input(\"Enter the number of primes: \"))\n",
        "        if n <= 0:\n",
        "            raise ValueError\n",
        "    except ValueError:\n",
        "        print(\"Please enter a valid positive integer.\")\n",
        "        exit(1)\n",
        "\n",
        "    total = sum_of_primes(n)\n",
        "    print(f\"The sum of the first {n} prime numbers is: {total}\")"
      ],
      "metadata": {
        "colab": {
          "base_uri": "https://localhost:8080/"
        },
        "id": "Q5XGckRZKXR7",
        "outputId": "34dce79d-318d-4147-8c8a-8007f8ef34c6"
      },
      "execution_count": null,
      "outputs": [
        {
          "output_type": "stream",
          "name": "stdout",
          "text": [
            "Enter the number of primes: 5\n",
            "The sum of the first 5 prime numbers is: 28\n"
          ]
        }
      ]
    },
    {
      "cell_type": "markdown",
      "source": [
        "End"
      ],
      "metadata": {
        "id": "tWl3MJh4lw67"
      }
    }
  ]
}