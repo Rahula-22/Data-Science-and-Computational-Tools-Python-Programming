{
  "nbformat": 4,
  "nbformat_minor": 0,
  "metadata": {
    "colab": {
      "provenance": []
    },
    "kernelspec": {
      "name": "python3",
      "display_name": "Python 3"
    },
    "language_info": {
      "name": "python"
    }
  },
  "cells": [
    {
      "cell_type": "markdown",
      "source": [
        "#Assignment-3 Python Programming\n",
        "## 2.2 Analyzing Temperature Fluctuation:\n",
        "\n",
        "Analyzes temperature readings and computes key statistics: mean, median, standard deviation, and variance (using Bessel's correction).\n",
        "\n",
        "Define a function called 'analyze_temps' that takes a list of temperatures as input.\n",
        "\n"
      ],
      "metadata": {
        "id": "zoZB7R4_jG_G"
      }
    },
    {
      "cell_type": "code",
      "source": [
        "import statistics\n",
        "# Import the 'statistics' module to use statistical functions.\n",
        "\n",
        "def analyze_temps(temperatures):\n",
        "\n",
        "    # Handling an empty dataset\n",
        "    if not temperatures:\n",
        "        print(\"Temperature dataset is empty.\")\n",
        "        return {\"mean\": None, \"median\": None, \"stdev\": None, \"variance\": None}\n",
        "\n",
        "    # Compute mean and median\n",
        "    mean_t = statistics.mean(temperatures)\n",
        "    median_t = statistics.median(temperatures)\n",
        "\n",
        "    #If there's only one temperature, set sd and var to 0 to avoid errors.\n",
        "    if len(temperatures) > 1:\n",
        "        stdev_t = statistics.stdev(temperatures)\n",
        "        variance_t = statistics.variance(temperatures)\n",
        "    else:\n",
        "        stdev_t = 0\n",
        "        variance_t = 0\n",
        "\n",
        "    #Return the calculated statistics in a dictionary.\n",
        "    return {\n",
        "        \"mean\": mean_t,\n",
        "        \"median\": median_t,\n",
        "        \"stdev\": stdev_t,\n",
        "        \"var\": variance_t\n",
        "    }"
      ],
      "metadata": {
        "id": "Xf0fEoMdjHZC"
      },
      "execution_count": null,
      "outputs": []
    },
    {
      "cell_type": "markdown",
      "source": [
        "This function Prompts the user to enter temperature readings separated by commas. Keeps prompting until valid numerical values are provided."
      ],
      "metadata": {
        "id": "Bx2JUvvUZxtS"
      }
    },
    {
      "cell_type": "code",
      "source": [
        "def get_inputs():\n",
        "\n",
        "    while True:\n",
        "        user_input = input(\"Enter temperature readings separated by commas (e.g., 15.5, 16.2, 14.8):\\n\")\n",
        "        tokens = user_input.replace(\",\", \" \").split() # Replace commas with whitespace and split\n",
        "\n",
        "        try:\n",
        "            temperatures = [float(token) for token in tokens]\n",
        "            return temperatures\n",
        "        except ValueError:\n",
        "            print(\"Invalid input! Please ensure all entered values are valid numbers.\\n\")\n",
        "\n"
      ],
      "metadata": {
        "id": "M4kadEUHVVRj"
      },
      "execution_count": null,
      "outputs": []
    },
    {
      "cell_type": "code",
      "source": [
        "if __name__ == \"__main__\":\n",
        "\n",
        "    temps = get_inputs()\n",
        "\n",
        "    analysis = analyze_temps(temps)\n",
        "\n",
        "    print(\"\\nTemperature Analysis:\")\n",
        "    print(f\"Mean Temperature: {analysis['mean']}\")\n",
        "    print(f\"Median Temperature: {analysis['median']}\")\n",
        "    print(f\"Standard Deviation: {analysis['stdev']}\")\n",
        "    print(f\"Variance: {analysis['var']}\")"
      ],
      "metadata": {
        "colab": {
          "base_uri": "https://localhost:8080/"
        },
        "id": "qkggilf0ZhbP",
        "outputId": "a390d723-3a29-4fb1-8030-472206f167b9"
      },
      "execution_count": null,
      "outputs": [
        {
          "output_type": "stream",
          "name": "stdout",
          "text": [
            "Enter temperature readings separated by commas (e.g., 15.5, 16.2, 14.8):\n",
            "23.4 23.3 20.3\n",
            "\n",
            "Temperature Analysis:\n",
            "Mean Temperature: 22.333333333333332\n",
            "Median Temperature: 23.3\n",
            "Standard Deviation: 1.7616280348965077\n",
            "Variance: 3.1033333333333313\n"
          ]
        }
      ]
    },
    {
      "cell_type": "code",
      "source": [],
      "metadata": {
        "id": "vzNHiGCLjHt7"
      },
      "execution_count": null,
      "outputs": []
    }
  ]
}