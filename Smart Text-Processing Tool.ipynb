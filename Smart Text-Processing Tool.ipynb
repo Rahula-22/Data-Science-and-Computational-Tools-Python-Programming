{
  "nbformat": 4,
  "nbformat_minor": 0,
  "metadata": {
    "colab": {
      "provenance": []
    },
    "kernelspec": {
      "name": "python3",
      "display_name": "Python 3"
    },
    "language_info": {
      "name": "python"
    }
  },
  "cells": [
    {
      "cell_type": "markdown",
      "source": [
        "#Assignment-3 Python Programming\n",
        "## 1.1 Smart Text-Processing Tool\n",
        "###  The tool is designed to assist local writers, poets, and journalists in formatting their content efficiently using a special numeric key.\n"
      ],
      "metadata": {
        "id": "I0mmHkfRa5uu"
      }
    },
    {
      "cell_type": "markdown",
      "source": [
        "Function:- validate_input(n, s):\n",
        "\n",
        "Which takes two inputs a unique registration number (n) and  content string (s) representing the writer's text.\n",
        "\n",
        "It ensures n is a positive integer and s is a non-empty string containing only letters.\n",
        "\n",
        "Raises: ValueError: if any condition is not met."
      ],
      "metadata": {
        "id": "u7QNiE9kbo5G"
      }
    },
    {
      "cell_type": "code",
      "source": [
        "def validate_input(n, s):\n",
        "    if not isinstance(n, int) or n<1: #This part checks if the variable `n` is an integer or it's less than or equal to 0.\n",
        "        raise ValueError(\"Registration number must be a positive integer.\")\n",
        "    if not isinstance(s, str) or not s.isalpha(): # This checks if the variable is a string, also if it contains only alphabetic characters. If it contains any numbers, spaces, or special characters, this condition becomes `True` and raises a `ValueError`.\n",
        "        raise ValueError(\"String must be non-empty and contain letters only.\")\n",
        "    return True\n"
      ],
      "metadata": {
        "id": "OdeS3vxHa12j"
      },
      "execution_count": 2,
      "outputs": []
    },
    {
      "cell_type": "markdown",
      "source": [
        "Function:- process_staring(n, s):\n",
        "\n",
        "Applies transformations based on the parity of n. If n is even, it reverses the string. If n is odd, it converts vowels to uppercase and consonants to lowercase."
      ],
      "metadata": {
        "id": "D78-HVAJcSp6"
      }
    },
    {
      "cell_type": "code",
      "source": [
        "def process_string(n, s):\n",
        "    if n % 2 == 0:\n",
        "        return s[::-1] # If n is even, creates a reversed copy of the string `s` and returns it.\n",
        "    else:\n",
        "        vowels = \"aeiouAEIOU\"\n",
        "        res = \"\" # Initialize an empty string to store the processed result\n",
        "\n",
        "        # Iterate through each character in the string\n",
        "        for char in s:\n",
        "            if char in vowels: # Checks if the current `char` is a vowel.\n",
        "                res += char.upper() #If yes, convert the vowel to uppercase and append it to res.\n",
        "            else:\n",
        "                res += char.lower() #If No, convert the consonant to lowercase and append it to res.\n",
        "\n",
        "        return res # Return the processed string\n"
      ],
      "metadata": {
        "id": "69MeZFvMamgn"
      },
      "execution_count": 1,
      "outputs": []
    },
    {
      "cell_type": "markdown",
      "source": [
        "Function:- count_ser_bits(n):\n",
        "\n",
        "Counts the number of 1s in the binary representation of n, which determines the substring length k."
      ],
      "metadata": {
        "id": "VeMTsiQwdczW"
      }
    },
    {
      "cell_type": "code",
      "source": [
        "def count_set_bits(n):\n",
        "    # Convert the integer `n` to its binary representation as a string.\n",
        "    binary_representation = bin(n)\n",
        "\n",
        "    # Count the occurrences of the character '1' in the binary string.\n",
        "    set_bits_count = binary_representation.count(\"1\")\n",
        "\n",
        "    return set_bits_count # Return the total count of set bits."
      ],
      "metadata": {
        "id": "giQEmzwOapuV"
      },
      "execution_count": 3,
      "outputs": []
    },
    {
      "cell_type": "markdown",
      "source": [
        "Function:- extract_substrings(s, k):\n",
        "\n",
        "Extracts all substrings of length k from s.\n",
        "\n",
        "If k is larger than the string length, returns an empty list."
      ],
      "metadata": {
        "id": "oNyNHr4YdvKw"
      }
    },
    {
      "cell_type": "code",
      "source": [
        "def extract_substrings(s, k):\n",
        "    # Initialize an empty list\n",
        "    substrings = []\n",
        "\n",
        "    if k > len(s): # If k is larger than the length of the string, return the empty list\n",
        "        return substrings\n",
        "\n",
        "    # Iterate through the string to extract substrings of length k\n",
        "    for i in range(len(s) - k + 1):\n",
        "        substrings.append(s[i:i+k]) # Extract the substring from index i to i+k and append it to the list\n",
        "\n",
        "    return substrings"
      ],
      "metadata": {
        "id": "J20tgp90asnO"
      },
      "execution_count": 4,
      "outputs": []
    },
    {
      "cell_type": "markdown",
      "source": [
        "Function:- sort_or_reverse(n, s, substrings):\n",
        "\n",
        "Sorts substrings lexicographically if n&len(s) = 0, otherwise reverses the order of substrings."
      ],
      "metadata": {
        "id": "3El6dW1yd9t5"
      }
    },
    {
      "cell_type": "code",
      "source": [
        "def sort_or_reverse(n, s, substrings):\n",
        "\n",
        "  # Perform bitwise AND between n and the length of the string s\n",
        "    if (n & len(s)) == 0:\n",
        "        return sorted(substrings) # Sort the substrings lexicographically\n",
        "    else:\n",
        "        return list(reversed(substrings)) # Reverse the order of substrings\n"
      ],
      "metadata": {
        "id": "o-rdpxm_azRT"
      },
      "execution_count": 5,
      "outputs": []
    },
    {
      "cell_type": "markdown",
      "source": [
        "Main Function: to manage input, process the string, and produce the final output. Handles multiple test cases."
      ],
      "metadata": {
        "id": "Fia24ZOfTMgI"
      }
    },
    {
      "cell_type": "code",
      "source": [
        "def main():\n",
        "\n",
        "    try:\n",
        "        t = int(input(\"Enter the number of test cases: \"))\n",
        "        for _ in range(t):\n",
        "            n = int(input(\"\\nEnter the registration number (n): \"))\n",
        "            s = input(\"Enter the content string (s): \").strip()\n",
        "\n",
        "            print(\"\\nInput:\")\n",
        "            print(f\"n = {n}\")\n",
        "            print(f\"s = {s}\")\n",
        "\n",
        "            validate_input(n, s) # Validate the inputs\n",
        "\n",
        "            processed_s = process_string(n, s)# Process the string based on parity of n\n",
        "\n",
        "            # Determine the substring length k from number of set bits in n\n",
        "            k = count_set_bits(n)\n",
        "\n",
        "            # Extract substrings of length k from the processed string\n",
        "            substrings = extract_substrings(processed_s, k)\n",
        "\n",
        "            # Order the substrings according to bitwise AND condition\n",
        "            final_subs = sort_or_reverse(n, processed_s, substrings)\n",
        "\n",
        "            print(\"Output:\")\n",
        "            print(\" \".join(final_subs))\n",
        "\n",
        "    except ValueError as ve:\n",
        "        print(\"Input Error:\", ve)\n",
        "    except Exception as e:\n",
        "        print(\"An unexpected error occurred:\", e)\n",
        "\n",
        "if __name__ == \"__main__\":\n",
        "    main()\n"
      ],
      "metadata": {
        "id": "ca6A6eBBag0V",
        "colab": {
          "base_uri": "https://localhost:8080/"
        },
        "outputId": "626f5570-f80b-4de0-ead2-1bc2792ee1ae"
      },
      "execution_count": 6,
      "outputs": [
        {
          "output_type": "stream",
          "name": "stdout",
          "text": [
            "Enter the number of test cases: 2\n",
            "\n",
            "Enter the registration number (n): 45\n",
            "Enter the content string (s): ghgjgjh\n",
            "\n",
            "Input:\n",
            "n = 45\n",
            "s = ghgjgjh\n",
            "Output:\n",
            "jgjh gjgj hgjg ghgj\n",
            "\n",
            "Enter the registration number (n): 65\n",
            "Enter the content string (s): hgfgfgfnfngfhjuk\n",
            "\n",
            "Input:\n",
            "n = 65\n",
            "s = hgfgfgfnfngfhjuk\n",
            "Output:\n",
            "Uk fg fg fh fn fn gf gf gf gf hg hj jU nf ng\n"
          ]
        }
      ]
    }
  ]
}