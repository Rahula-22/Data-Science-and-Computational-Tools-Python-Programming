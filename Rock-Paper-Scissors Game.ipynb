{
  "nbformat": 4,
  "nbformat_minor": 0,
  "metadata": {
    "colab": {
      "provenance": []
    },
    "kernelspec": {
      "name": "python3",
      "display_name": "Python 3"
    },
    "language_info": {
      "name": "python"
    }
  },
  "cells": [
    {
      "cell_type": "code",
      "source": [],
      "metadata": {
        "id": "NQ7FKL_3EZZF"
      },
      "execution_count": null,
      "outputs": []
    },
    {
      "cell_type": "markdown",
      "source": [
        "# Assignment-3 Python Programming\n",
        "\n",
        "## 1.2 Rock-Paper-Scissors\n",
        "### RPS is a popular hand game played between two players. The rules of the game are as follows:\n",
        "\n",
        "###• Rock beats Scissors.\n",
        "###• Scissors beats Paper.\n",
        "###• Paper beats Rock.\n",
        "###  This Python program simulates a Rock-Paper-Scissors game between a human player and the computer.\n"
      ],
      "metadata": {
        "id": "p3np7TL4asGt"
      }
    },
    {
      "cell_type": "code",
      "source": [
        "#This module provides functions for generating random numbers.\n",
        "import random"
      ],
      "metadata": {
        "id": "pzfwl-5Eb_vH"
      },
      "execution_count": null,
      "outputs": []
    },
    {
      "cell_type": "markdown",
      "source": [
        "Function:- get_user_choice():\n",
        "\n",
        "This function prompts the user for their choice and validates it."
      ],
      "metadata": {
        "id": "X-dUrJyvckcX"
      }
    },
    {
      "cell_type": "code",
      "source": [
        "def get_user_choice():\n",
        "\n",
        "    # Start an infinite loop to keep prompting until a valid choice is entered\n",
        "    while True:\n",
        "        # Get user input, remove extra spaces, and convert to lowercase\n",
        "        choice = input(\"Enter your choice (Rock, Paper, Scissors or Quit to exit): \").strip().lower()\n",
        "\n",
        "        if choice in ['rock', 'paper', 'scissors', 'quit']: # Check if the choice is valid and ruturns\n",
        "            return choice\n",
        "        else:\n",
        "            print(\"Invalid input. Please enter Rock, Paper, Scissors or Quit.\") # If invalid, print an error message and continue the loop"
      ],
      "metadata": {
        "id": "U3VUVXKVaq1h"
      },
      "execution_count": null,
      "outputs": []
    },
    {
      "cell_type": "markdown",
      "source": [
        "Function:- get_computer_choice():\n",
        "\n",
        "This function generates a random choice for the computer among 'rock', 'paper'\n",
        "'scissors'."
      ],
      "metadata": {
        "id": "vbS0e9J_czAN"
      }
    },
    {
      "cell_type": "code",
      "source": [
        "def get_computer_choice():\n",
        "  # We use random.choice to select a random element from a list and return it.\n",
        "    return random.choice(['rock', 'paper', 'scissors'])"
      ],
      "metadata": {
        "id": "ZfctGOd4bsf2"
      },
      "execution_count": null,
      "outputs": []
    },
    {
      "cell_type": "markdown",
      "source": [
        "Function:- get_computer_choice():\n",
        "\n",
        "This function determines the winner of a round of Rock-Paper-Scissors."
      ],
      "metadata": {
        "id": "ow6t5qjfeS_z"
      }
    },
    {
      "cell_type": "code",
      "source": [
        "def determine_winner(user, computer):\n",
        "\n",
        "    # Both choices are the same, it's a tie\n",
        "    if user == computer:\n",
        "        return 'tie'\n",
        "\n",
        "    # Determine win/loss based on game rules\n",
        "    if (user == 'rock' and computer == 'scissors') or \\\n",
        "       (user == 'scissors' and computer == 'paper') or \\\n",
        "       (user == 'paper' and computer == 'rock'):\n",
        "        return 'win' # User wins.\n",
        "    else:\n",
        "        return 'loss' # Computer wins.\n",
        "\n"
      ],
      "metadata": {
        "id": "Cg3k4euybsr4"
      },
      "execution_count": null,
      "outputs": []
    },
    {
      "cell_type": "markdown",
      "source": [
        "Function:- play_game():\n",
        "\n",
        "This is a Main game loop that continues to prompt the user, plays rounds until user quits and displays the computer's choice and updates the score each round."
      ],
      "metadata": {
        "id": "DkSH5S30e6kL"
      }
    },
    {
      "cell_type": "code",
      "source": [
        "def play_game():\n",
        "  # Initialize the number of wins, losses, ties.\n",
        "    w = 0\n",
        "    l = 0\n",
        "    t = 0\n",
        "\n",
        "    while True:\n",
        "        user_choice = get_user_choice()\n",
        "\n",
        "        # Exit the loop if the user quits.\n",
        "        if user_choice == 'quit':\n",
        "            print(\"\\nGame over. Thanks for playing!\")\n",
        "            break\n",
        "        # Get the computer's choice, display choices.\n",
        "        computer_choice = get_computer_choice()\n",
        "        print(f\"You chose: {user_choice.capitalize()}\")\n",
        "        print(f\"Computer chose: {computer_choice.capitalize()}\")\n",
        "\n",
        "         # Determine the winner based on the results received\n",
        "        result = determine_winner(user_choice, computer_choice)\n",
        "        if result == 'win':\n",
        "            w += 1\n",
        "            print(\"You win this round!\")\n",
        "        elif result == 'loss':\n",
        "            l += 1\n",
        "            print(\"Computer wins this round!\")\n",
        "        elif result == 'tie':\n",
        "            t += 1\n",
        "            print(\"This round is a tie!\")\n",
        "\n",
        "        print(f\"Score => Wins: {w}, Losses: {l}, Ties: {t}\\n\")\n",
        "\n",
        "if __name__ == \"__main__\":\n",
        "    play_game()"
      ],
      "metadata": {
        "colab": {
          "base_uri": "https://localhost:8080/"
        },
        "id": "huskXw1Ubs1K",
        "outputId": "8ee3668b-70d9-4b3b-d4f3-6063d8866a5b"
      },
      "execution_count": null,
      "outputs": [
        {
          "output_type": "stream",
          "name": "stdout",
          "text": [
            "Enter your choice (Rock, Paper, Scissors or Quit to exit): rock\n",
            "You chose: Rock\n",
            "Computer chose: Rock\n",
            "This round is a tie!\n",
            "Score => Wins: 0, Losses: 0, Ties: 1\n",
            "\n",
            "Enter your choice (Rock, Paper, Scissors or Quit to exit): paper\n",
            "You chose: Paper\n",
            "Computer chose: Paper\n",
            "This round is a tie!\n",
            "Score => Wins: 0, Losses: 0, Ties: 2\n",
            "\n",
            "Enter your choice (Rock, Paper, Scissors or Quit to exit): scis\n",
            "Invalid input. Please enter Rock, Paper, Scissors or Quit.\n",
            "Enter your choice (Rock, Paper, Scissors or Quit to exit): scissors\n",
            "You chose: Scissors\n",
            "Computer chose: Paper\n",
            "You win this round!\n",
            "Score => Wins: 1, Losses: 0, Ties: 2\n",
            "\n",
            "Enter your choice (Rock, Paper, Scissors or Quit to exit): paper\n",
            "You chose: Paper\n",
            "Computer chose: Rock\n",
            "You win this round!\n",
            "Score => Wins: 2, Losses: 0, Ties: 2\n",
            "\n",
            "Enter your choice (Rock, Paper, Scissors or Quit to exit): rock\n",
            "You chose: Rock\n",
            "Computer chose: Paper\n",
            "Computer wins this round!\n",
            "Score => Wins: 2, Losses: 1, Ties: 2\n",
            "\n",
            "Enter your choice (Rock, Paper, Scissors or Quit to exit): quit\n",
            "\n",
            "Game over. Thanks for playing!\n"
          ]
        }
      ]
    },
    {
      "cell_type": "code",
      "source": [],
      "metadata": {
        "id": "hh2CR97PbtKv"
      },
      "execution_count": null,
      "outputs": []
    }
  ]
}