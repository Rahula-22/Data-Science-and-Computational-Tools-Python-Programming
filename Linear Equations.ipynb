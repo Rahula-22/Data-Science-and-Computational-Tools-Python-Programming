{
  "nbformat": 4,
  "nbformat_minor": 0,
  "metadata": {
    "colab": {
      "provenance": []
    },
    "kernelspec": {
      "name": "python3",
      "display_name": "Python 3"
    },
    "language_info": {
      "name": "python"
    }
  },
  "cells": [
    {
      "cell_type": "markdown",
      "source": [
        "#Assignment-3 Python Programming\n",
        "## 2.3  Solving a System of Linear Equations in Physics:\n",
        "\n"
      ],
      "metadata": {
        "id": "0CYVRptHkdU2"
      }
    },
    {
      "cell_type": "markdown",
      "source": [
        "This function solves the system of linear equations A * X = B."
      ],
      "metadata": {
        "id": "7mGG6V-sdwm_"
      }
    },
    {
      "cell_type": "code",
      "source": [
        "import numpy as np\n",
        "# Import the NumPy library for numerical computations as np\n",
        "\n",
        "# Define a function named 'sol_linear_system'\n",
        "def sol_linear_system(coeff, const):\n",
        "        # A (list of lists): A square matrix of size N x N representing the coefficients of the equations.\n",
        "        # B (list): A vector of size N representing the constants on the right-hand side of the equations.\n",
        "\n",
        "    # Convert A and B into NumPy arrays type float\n",
        "    coeff = np.array(coeff, dtype=float)\n",
        "    const = np.array(const, dtype=float)\n",
        "\n",
        "     # Validate dim of A and B\n",
        "    if coeff.ndim != 2 or coeff.shape[0] != coeff.shape[1]: # if it is a 2d square matrix\n",
        "        raise ValueError(\"Coeff matrix must be square.\")\n",
        "    if const.ndim != 1 or const.shape[0] != coeff.shape[0]: # Check if it is a 1d vector\n",
        "        raise ValueError(\"Const vector must have the same length as the number of rows in the coeff matrix.\")\n",
        "\n",
        "    # Solve using NumPy\n",
        "    try:\n",
        "        X=np.linalg.solve(coeff, const)\n",
        "    except np.linalg.LinAlgError:\n",
        "        raise ValueError(\"The matrix is singular, cannot solve.\")\n",
        "\n",
        "    return X\n"
      ],
      "metadata": {
        "id": "ABANgY3Jkdp4"
      },
      "execution_count": null,
      "outputs": []
    },
    {
      "cell_type": "markdown",
      "source": [
        "Main Function: Implementing the sol_linear_system(A, B) and prompting the user for input values."
      ],
      "metadata": {
        "id": "BSmux3m3N3Jl"
      }
    },
    {
      "cell_type": "code",
      "source": [
        "if __name__ == \"__main__\":\n",
        "  # Get the number of equations from the user\n",
        "    while True:\n",
        "        try:\n",
        "            n = int(input(\"Enter the number of equations(size of matrix A): \"))\n",
        "            if n <= 0:\n",
        "                print(\"The number of equations must be a positive integer.Pls try again.\")\n",
        "            else:\n",
        "                break\n",
        "        except ValueError:\n",
        "            print(\"Invalid input! Please enter a positive integer.\")\n",
        "\n",
        "    # Get the coefficients for matrix A\n",
        "    print(\"\\nEnter the coefficients for matrix A sep by commas, row by row:\")\n",
        "    A = []\n",
        "    for i in range(n):\n",
        "        while True:\n",
        "            row_ipt = input(f\"Row {i+1}: \")\n",
        "            try:\n",
        "                row = [float(x) for x in row_ipt.split(\",\")] # split by commas.\n",
        "                if len(row) != n:\n",
        "                    raise ValueError(f\"Expected {n} coefficients, but got {len(row)}.\")\n",
        "                A.append(row)\n",
        "                break  # Break if the row is valid.\n",
        "            except ValueError as e:\n",
        "                print(\"Invalid row input:\", e, \"Pls try again.\")\n",
        "\n",
        "# Get the values for vector B\n",
        "    while True:\n",
        "        B_input = input(\"\\nEnter values for vector B sep by commas): \")\n",
        "        try:\n",
        "            B = [float(x) for x in B_input.split(\",\")]\n",
        "            if len(B) != n:\n",
        "                raise ValueError(f\"Expected {n} values for vector B, but got {len(B)}.\")\n",
        "            break\n",
        "        except ValueError as e:\n",
        "            print(\"Invalid input for vector B:\", e, \"Pls try again.\")\n",
        "\n",
        "    # solve the system and print the solution.\n",
        "    try:\n",
        "        soln = sol_linear_system(A, B)\n",
        "        print(\"\\nSolution vector X:\", soln)\n",
        "    except ValueError as e:\n",
        "        print(\"Error:\", e)"
      ],
      "metadata": {
        "id": "Zv3heKSaMoQA",
        "colab": {
          "base_uri": "https://localhost:8080/"
        },
        "outputId": "3d500448-9a2a-4276-f85b-65eb68113552"
      },
      "execution_count": null,
      "outputs": [
        {
          "output_type": "stream",
          "name": "stdout",
          "text": [
            "Enter the number of equations (size of matrix A): 2\n",
            "\n",
            "Enter the coefficients for matrix A (separated by commas, row by row):\n",
            "Row 1: 1,2\n",
            "Row 2: 2,3\n",
            "\n",
            "Enter values for vector B (separated by commas): 1,2\n",
            "\n",
            "Solution vector X: [1. 0.]\n"
          ]
        }
      ]
    }
  ]
}